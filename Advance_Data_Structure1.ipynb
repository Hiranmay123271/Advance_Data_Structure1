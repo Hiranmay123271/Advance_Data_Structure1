{
 "cells": [
  {
   "cell_type": "markdown",
   "id": "5e4e9021-414b-48a6-8c2d-79d056ec8591",
   "metadata": {},
   "source": [
    "1.Write a code to reverse a string."
   ]
  },
  {
   "cell_type": "code",
   "execution_count": 7,
   "id": "4987e949-9575-4475-8c58-8b70b6290e73",
   "metadata": {},
   "outputs": [
    {
     "data": {
      "text/plain": [
       "'Ajay Gupta'"
      ]
     },
     "execution_count": 7,
     "metadata": {},
     "output_type": "execute_result"
    }
   ],
   "source": [
    "name = \"Ajay Gupta\"\n",
    "name"
   ]
  },
  {
   "cell_type": "code",
   "execution_count": 8,
   "id": "7bc034c3-953a-48f4-9781-8a98fa532a27",
   "metadata": {},
   "outputs": [
    {
     "data": {
      "text/plain": [
       "'atpuG yajA'"
      ]
     },
     "execution_count": 8,
     "metadata": {},
     "output_type": "execute_result"
    }
   ],
   "source": [
    "name[::-1]"
   ]
  },
  {
   "cell_type": "code",
   "execution_count": 9,
   "id": "54c7b844-6765-4317-90aa-6b3b24f8c1ab",
   "metadata": {},
   "outputs": [
    {
     "data": {
      "text/plain": [
       "'sine wave'"
      ]
     },
     "execution_count": 9,
     "metadata": {},
     "output_type": "execute_result"
    }
   ],
   "source": [
    "name1 = \"sine wave\"\n",
    "name1"
   ]
  },
  {
   "cell_type": "code",
   "execution_count": 10,
   "id": "b3be4ac0-b296-4f01-b126-aa9fe15047a8",
   "metadata": {},
   "outputs": [
    {
     "data": {
      "text/plain": [
       "'evaw enis'"
      ]
     },
     "execution_count": 10,
     "metadata": {},
     "output_type": "execute_result"
    }
   ],
   "source": [
    "name1[::-1]"
   ]
  },
  {
   "cell_type": "markdown",
   "id": "61e24e01-fbf6-4cef-8208-1bf5f3ec2288",
   "metadata": {},
   "source": [
    "2.Write a code to count the number of vowels in a string."
   ]
  },
  {
   "cell_type": "code",
   "execution_count": 11,
   "id": "ad10fb78-90cc-4714-9fb8-6a67b15c304e",
   "metadata": {},
   "outputs": [
    {
     "name": "stdout",
     "output_type": "stream",
     "text": [
      "Number of vowels in 'Hell0, World!': 2\n"
     ]
    }
   ],
   "source": [
    "def count_vowels(string):\n",
    "    vowels = \"aeiou\" # List of vowels means, if in string if any of this remain it will count them\n",
    "    count = 0  # Initialize count\n",
    "\n",
    "    for char in string:  # Loop through each character in the string\n",
    "        if char in vowels:  # Check if the character is a vowel\n",
    "            count += 1  # Increment count if it's a vowel\n",
    "\n",
    "    return count  # Return the total count of vowels\n",
    "\n",
    "# Example\n",
    "\n",
    "string1 = \"Hell0, World!\"\n",
    "vowel_count = count_vowels(string1)\n",
    "print(f\"Number of vowels in '{string1}': {vowel_count}\")\n"
   ]
  },
  {
   "cell_type": "markdown",
   "id": "77cda77b-c69e-496a-9b79-18e13958d517",
   "metadata": {},
   "source": [
    "3.Write a code to check if a given string is a palindrome or not."
   ]
  },
  {
   "cell_type": "code",
   "execution_count": 12,
   "id": "00847aeb-d618-40a6-a704-1df82d88caa9",
   "metadata": {},
   "outputs": [],
   "source": [
    "### palindrome is something that if u chnage the sequence it remain unchanged.It can be word,phrase,number,etc...\n",
    "## Let's undersand by taking examples"
   ]
  },
  {
   "cell_type": "code",
   "execution_count": 13,
   "id": "e6742af7-411a-4897-a703-080ca854bfe0",
   "metadata": {},
   "outputs": [
    {
     "name": "stdout",
     "output_type": "stream",
     "text": [
      "'amima' is a palindrome.\n"
     ]
    }
   ],
   "source": [
    "def palindrome(string):\n",
    "   \n",
    " # Convert the string to lowercase to make the check case-insensitive\n",
    "    string = string.lower()\n",
    "\n",
    "\n",
    "\n",
    "    # Check if the string is equal to its reverse\n",
    "    return string == string[::-1]\n",
    "\n",
    "# Example usage\n",
    "string = \"amima\"\n",
    "if palindrome(string):\n",
    "    print(f\"'{string}' is a palindrome.\")\n",
    "else:\n",
    "    print(f\"'{string}' is not a palindrome.\")"
   ]
  },
  {
   "cell_type": "markdown",
   "id": "055be2cd-4a5f-4d68-bcf4-7d4d318b35f3",
   "metadata": {},
   "source": [
    "4.Write a code to check if two given strings are anagrams of each other."
   ]
  },
  {
   "cell_type": "code",
   "execution_count": 14,
   "id": "880dee89-484d-47dd-949d-5e633605e345",
   "metadata": {},
   "outputs": [],
   "source": [
    "### Two strings are anagrams if they contain same character in both string but it can be any order."
   ]
  },
  {
   "cell_type": "code",
   "execution_count": 15,
   "id": "69eb2d0e-6efc-418a-bf80-e470741a6be3",
   "metadata": {},
   "outputs": [
    {
     "name": "stdout",
     "output_type": "stream",
     "text": [
      "'lemon' and 'melon' are anagrams.\n"
     ]
    }
   ],
   "source": [
    "def anagrams(string1, string2):\n",
    "\n",
    "\n",
    "    # Convert both strings to lowercase to make the check case-insensitive\n",
    "    string1 = string1.lower()\n",
    "    string2 = string2.lower()\n",
    "\n",
    "\n",
    "\n",
    "    # Check if sorted characters of both strings are the same\n",
    "    return sorted(string1) == sorted(string2)\n",
    "\n",
    "# Example usage\n",
    "string1 = \"lemon\"\n",
    "string2 = \"melon\"\n",
    "\n",
    "if anagrams(string1, string2):\n",
    "    print(f\"'{string1}' and '{string2}' are anagrams.\")\n",
    "else:\n",
    "    print(f\"'{string1}' and '{string2}' are not anagrams.\")\n"
   ]
  },
  {
   "cell_type": "markdown",
   "id": "81943a5b-3aea-47a1-9717-36ba62ba3dba",
   "metadata": {},
   "source": [
    "5.Write a code to find all occurrences of a given substring within another string."
   ]
  },
  {
   "cell_type": "code",
   "execution_count": 16,
   "id": "d7e89c8a-900d-407f-b46f-790b04763f21",
   "metadata": {},
   "outputs": [
    {
     "name": "stdout",
     "output_type": "stream",
     "text": [
      "Occurrences of 'anac' in 'anacodaanaco': [0, 7]\n"
     ]
    }
   ],
   "source": [
    "def occurrences(main_string, substring):\n",
    "    occurrences = []  # List to store the positions of occurrences\n",
    "    pos = main_string.find(substring)  # Find the first occurrence\n",
    "\n",
    "    while pos != -1:  # Loop until no more occurrences are found\n",
    "        occurrences.append(pos)  # Add the position to the list\n",
    "        pos = main_string.find(substring, pos + 1)  # Find the next occurrence\n",
    "\n",
    "    return occurrences\n",
    "\n",
    "# Example usage\n",
    "main_string = \"anacodaanaco\"\n",
    "substring = \"anac\"\n",
    "\n",
    "occurrences = occurrences(main_string, substring)\n",
    "print(f\"Occurrences of '{substring}' in '{main_string}': {occurrences}\")"
   ]
  },
  {
   "cell_type": "markdown",
   "id": "296109e9-ad70-447d-a9f0-1754bbac0e8f",
   "metadata": {},
   "source": [
    "6.Write a code to perform basic string compression using the counts of repeated characters."
   ]
  },
  {
   "cell_type": "code",
   "execution_count": 17,
   "id": "352f6fb1-ce33-423e-9566-6d946413e7eb",
   "metadata": {},
   "outputs": [
    {
     "name": "stdout",
     "output_type": "stream",
     "text": [
      "Original: aabcccccaaaddddfffr\n",
      "Compressed: a2b1c5a3d4f3r1\n"
     ]
    }
   ],
   "source": [
    "def compress_string(s):\n",
    "    compressed = \"\"  # Start with an empty string to hold the result\n",
    "    count = 1  # Begin counting with 1 for the first character\n",
    "\n",
    "    for i in range(1, len(s)):  # Loop through the string starting from the second character\n",
    "        if s[i] == s[i - 1]:  # If the current character is the same as the previous one\n",
    "            count += 1  # Increase the count\n",
    "        else:\n",
    "            compressed += s[i - 1] + str(count)  # Add the character and its count to the result\n",
    "            count = 1  # Reset the count for the next new character\n",
    "\n",
    "    compressed += s[-1] + str(count)  # Don't forget to add the last character and its count\n",
    "\n",
    "    return compressed  # Return the compressed string\n",
    "\n",
    "# Example usage\n",
    "original_string = \"aabcccccaaaddddfffr\"\n",
    "compressed_string = compress_string(original_string)\n",
    "print(f\"Original: {original_string}\")\n",
    "print(f\"Compressed: {compressed_string}\")\n"
   ]
  },
  {
   "cell_type": "markdown",
   "id": "428fda94-0518-4b1b-ab29-2391fa722e30",
   "metadata": {},
   "source": [
    "7.Write a code to determine if a string has all unique characters."
   ]
  },
  {
   "cell_type": "code",
   "execution_count": 18,
   "id": "d72f4212-259c-41e0-8054-c0807bc7315a",
   "metadata": {},
   "outputs": [
    {
     "name": "stdout",
     "output_type": "stream",
     "text": [
      "String 'abcdef' has all unique characters: True\n",
      "String 'aabbcc' has all unique characters: False\n"
     ]
    }
   ],
   "source": [
    "def unique_characters(s):\n",
    "    # Convert the string to a set of characters because we know that set give us unique elements.\n",
    "    unique_characters = set(s)\n",
    "    \n",
    "    # Compare the length of the set with the length of the string because if length of the set is equal to length of unique_character which means all the character is unique.\n",
    "    \n",
    "    return len(unique_characters) == len(s)\n",
    "\n",
    "string = \"abcdef\"\n",
    "print(f\"String '{string}' has all unique characters: {unique_characters(string)}\")\n",
    "\n",
    "string = \"aabbcc\"\n",
    "print(f\"String '{string}' has all unique characters: {unique_characters(string)}\")\n"
   ]
  },
  {
   "cell_type": "markdown",
   "id": "6d2898ad-f787-4508-8703-df4e593bae7a",
   "metadata": {},
   "source": [
    "8.Write a code to convert a given string to uppercase or lowercase."
   ]
  },
  {
   "cell_type": "code",
   "execution_count": 19,
   "id": "69155541-3af3-4df5-9778-2815e907052c",
   "metadata": {},
   "outputs": [
    {
     "data": {
      "text/plain": [
       "'Hello World'"
      ]
     },
     "execution_count": 19,
     "metadata": {},
     "output_type": "execute_result"
    }
   ],
   "source": [
    "## Examples for upper case\n",
    "str1 = \"Hello World\"\n",
    "str1"
   ]
  },
  {
   "cell_type": "code",
   "execution_count": 20,
   "id": "26793001-a059-4ccc-bb01-a4fe9b12210f",
   "metadata": {},
   "outputs": [
    {
     "data": {
      "text/plain": [
       "'HELLO WORLD'"
      ]
     },
     "execution_count": 20,
     "metadata": {},
     "output_type": "execute_result"
    }
   ],
   "source": [
    "str1.upper()"
   ]
  },
  {
   "cell_type": "code",
   "execution_count": 21,
   "id": "a492fcb2-b979-4ddb-8b54-f72f27d22df3",
   "metadata": {},
   "outputs": [
    {
     "data": {
      "text/plain": [
       "'HELLO WORLD'"
      ]
     },
     "execution_count": 21,
     "metadata": {},
     "output_type": "execute_result"
    }
   ],
   "source": [
    "str2 = \"hello world\"\n",
    "str2.upper()"
   ]
  },
  {
   "cell_type": "code",
   "execution_count": 22,
   "id": "45dfa807-e0d0-4972-a2fb-7242445dd39f",
   "metadata": {},
   "outputs": [
    {
     "data": {
      "text/plain": [
       "'Hello World'"
      ]
     },
     "execution_count": 22,
     "metadata": {},
     "output_type": "execute_result"
    }
   ],
   "source": [
    "#### Examples for lower case \n",
    "\n",
    "str1"
   ]
  },
  {
   "cell_type": "code",
   "execution_count": 23,
   "id": "265e17f9-4231-470a-b180-fa53613023f4",
   "metadata": {},
   "outputs": [
    {
     "data": {
      "text/plain": [
       "'hello world'"
      ]
     },
     "execution_count": 23,
     "metadata": {},
     "output_type": "execute_result"
    }
   ],
   "source": [
    "str1.lower()"
   ]
  },
  {
   "cell_type": "code",
   "execution_count": 24,
   "id": "ae095e6a-b4cd-44bd-8914-0296ef375b5e",
   "metadata": {},
   "outputs": [
    {
     "data": {
      "text/plain": [
       "'Ajay Gupta'"
      ]
     },
     "execution_count": 24,
     "metadata": {},
     "output_type": "execute_result"
    }
   ],
   "source": [
    "str2=\"Ajay Gupta\"\n",
    "str2"
   ]
  },
  {
   "cell_type": "code",
   "execution_count": 25,
   "id": "289d1c8d-4e24-443a-bd05-750a9eb64e30",
   "metadata": {},
   "outputs": [
    {
     "data": {
      "text/plain": [
       "'ajay gupta'"
      ]
     },
     "execution_count": 25,
     "metadata": {},
     "output_type": "execute_result"
    }
   ],
   "source": [
    "str2.lower()"
   ]
  },
  {
   "cell_type": "markdown",
   "id": "bbf5cc81-8632-41aa-b44c-551ac82f7edd",
   "metadata": {},
   "source": [
    "9. Write a code to count the number of words in a string."
   ]
  },
  {
   "cell_type": "code",
   "execution_count": 26,
   "id": "8cdd1c50-1cff-4423-ba6d-b376cc241231",
   "metadata": {},
   "outputs": [
    {
     "name": "stdout",
     "output_type": "stream",
     "text": [
      "Number of words: 7\n"
     ]
    }
   ],
   "source": [
    "def count_words(s):\n",
    "    words = s.split()  # Split the string into words based on whitespace\n",
    "    return len(words)  # Return the number of words\n",
    "\n",
    "# Example usage\n",
    "string = \"Hello world, this is a test string.\"\n",
    "count = count_words(string)\n",
    "print(f\"Number of words: {count}\")"
   ]
  },
  {
   "cell_type": "markdown",
   "id": "ac24a498-ea32-465c-9c22-460a5f2a3083",
   "metadata": {},
   "source": [
    "10.Write a code to concatenate two strings without using the + operator."
   ]
  },
  {
   "cell_type": "code",
   "execution_count": 27,
   "id": "474af0fa-b3b5-462d-8075-359ddbaefcc2",
   "metadata": {},
   "outputs": [
    {
     "name": "stdout",
     "output_type": "stream",
     "text": [
      "Hiranmay Mushahary\n"
     ]
    }
   ],
   "source": [
    "str1 = \"Hiranmay\"\n",
    "str2 = \"Mushahary\"\n",
    "\n",
    "print(str1,str2)"
   ]
  },
  {
   "cell_type": "markdown",
   "id": "cf254081-49e6-4e6d-9aec-c8978bb25e7f",
   "metadata": {},
   "source": [
    "11.Write a code to remove all occurrences of a specific element from a list."
   ]
  },
  {
   "cell_type": "code",
   "execution_count": 28,
   "id": "ca4a8b97-8835-4a6f-b563-43f018fd1675",
   "metadata": {},
   "outputs": [
    {
     "name": "stdout",
     "output_type": "stream",
     "text": [
      "[1, 2, 4, 5]\n"
     ]
    }
   ],
   "source": [
    "def remove_element(lst, element):  # Function to remove a specific element\n",
    "    result = []                    # Create an empty list to store the result\n",
    "    for x in lst:                  # Loop through each item in the list 'lst'\n",
    "        if x != element:           # Check if the current item 'x' is not the element to remove\n",
    "            result.append(x)       # If it's not, add it to the 'result' list\n",
    "    return result                  # Return the new list without the unwanted element\n",
    "\n",
    "# Example usage:\n",
    "my_list = [1, 2, 3, 4, 3, 5]       \n",
    "element_to_remove = 3              \n",
    "result = remove_element(my_list, element_to_remove)\n",
    "print(result)  \n"
   ]
  },
  {
   "cell_type": "markdown",
   "id": "96f0f04b-ee89-4364-a9c4-4398e362c67f",
   "metadata": {},
   "source": [
    "12.Implement a code to find the second largest number in a given list of integers."
   ]
  },
  {
   "cell_type": "code",
   "execution_count": 29,
   "id": "3bfd65bb-bba8-4fd2-8cb3-e7aba43d8a72",
   "metadata": {},
   "outputs": [
    {
     "name": "stdout",
     "output_type": "stream",
     "text": [
      "45\n"
     ]
    }
   ],
   "source": [
    "def second_largest(lst):\n",
    "    lst.sort()  # Sort the list in ascending order\n",
    "    return lst[3]  # Return the second last element (second largest)\n",
    "\n",
    "my_list = [10, 20, 4, 45, 99]\n",
    "result = second_largest(my_list)\n",
    "print(result)  \n"
   ]
  },
  {
   "cell_type": "markdown",
   "id": "d9b2651b-ef98-4fc4-9383-2315c081898b",
   "metadata": {},
   "source": [
    "13.Create a code to count the occurrences of each element in alist and return a dictionary with elements as keys and their counts as values."
   ]
  },
  {
   "cell_type": "code",
   "execution_count": 30,
   "id": "c3e7254e-e8b0-4612-9936-6249b8a7d288",
   "metadata": {},
   "outputs": [
    {
     "name": "stdout",
     "output_type": "stream",
     "text": [
      "{1: 1, 2: 2, 3: 3, 4: 3, 5: 1, 6: 1, 7: 2}\n"
     ]
    }
   ],
   "source": [
    "def count_occurrences(lst):\n",
    "    counts = {}  # Start with an empty dictionary\n",
    "    for element in lst:  # Go through each item in the list\n",
    "        if element in counts:  # If the item is already in the dictionary\n",
    "            counts[element] = counts[element] + 1  # Increase its count by 1\n",
    "        else:\n",
    "            counts[element] = 1  # If it's not in the dictionary, add it with a count of 1\n",
    "    return counts  # Return the dictionary with the counts\n",
    "\n",
    "\n",
    "my_list = [1, 2, 2, 3, 3, 3, 4,4,4,5,6,7,7]\n",
    "result = count_occurrences(my_list)\n",
    "print(result) \n"
   ]
  },
  {
   "cell_type": "markdown",
   "id": "2e00f2bd-53a2-402d-af39-9d9a5acb2a9c",
   "metadata": {},
   "source": [
    "14.Write a code to reverse a list in-place without using any built-in reverse functions."
   ]
  },
  {
   "cell_type": "code",
   "execution_count": 31,
   "id": "af5f1310-30c8-4302-af0b-b6843b6cb9fe",
   "metadata": {},
   "outputs": [
    {
     "name": "stdout",
     "output_type": "stream",
     "text": [
      "[5, 4, 3, 2, 1]\n"
     ]
    }
   ],
   "source": [
    "def reverse_list(arr):\n",
    "    start = 0  # Initialize the start pointer at the beginning of the list\n",
    "    end = len(arr) - 1  # Initialize the end pointer at the last element of the list\n",
    "    \n",
    "    while start < end:  # Continue the loop until the start and end pointers meet\n",
    "        # Swap elements at start and end\n",
    "        arr[start], arr[end] = arr[end], arr[start]\n",
    "        # Move pointers towards each other\n",
    "        start += 1  # Move the start pointer one position to the right\n",
    "        end -= 1  # Move the end pointer one position to the left\n",
    "\n",
    "# Example usage:\n",
    "my_list = [1, 2, 3, 4, 5]\n",
    "reverse_list(my_list)\n",
    "print(my_list)  \n"
   ]
  },
  {
   "cell_type": "markdown",
   "id": "9ab09947-7052-41ad-8bec-27eec7c3c449",
   "metadata": {},
   "source": [
    "15.Implement a code to find and remove duplicates from a list while preserving the original orderof elements."
   ]
  },
  {
   "cell_type": "code",
   "execution_count": 32,
   "id": "95abc6c4-0fe0-4ce4-b6a7-e7c2ccb5ddbd",
   "metadata": {},
   "outputs": [
    {
     "name": "stdout",
     "output_type": "stream",
     "text": [
      "[1, 2, 3, 4, 5, 9, 8, 7]\n"
     ]
    }
   ],
   "source": [
    "def remove_duplicates(lst):\n",
    "    seen = set()  # A set to keep track of seen elements also we know that sets gives unique elements\n",
    "    result = []   # The list to store the result without duplicates\n",
    "    \n",
    "    for item in lst:\n",
    "        if item not in seen:  # Check if the item has not been seen before\n",
    "            seen.add(item)   # Add the item to the set of seen elements\n",
    "            result.append(item)  # Append the item to the result list\n",
    "    \n",
    "    return result\n",
    "\n",
    "my_list = [1, 2, 2, 3, 4, 4, 5,9,9,9,8,7,7,7]\n",
    "result = remove_duplicates(my_list)\n",
    "print(result)  \n"
   ]
  },
  {
   "cell_type": "markdown",
   "id": "f2117f0d-b74e-419f-a896-8ecffa438bd2",
   "metadata": {},
   "source": [
    "16.Create a code to check if a given list is sorted (either in ascending or descending order) or not."
   ]
  },
  {
   "cell_type": "code",
   "execution_count": 33,
   "id": "dca3d0fa-c9f3-48a1-873b-bd3c9125aff1",
   "metadata": {},
   "outputs": [
    {
     "name": "stdout",
     "output_type": "stream",
     "text": [
      "The list is sorted.\n"
     ]
    }
   ],
   "source": [
    "my_list = [1, 2, 3, 4, 5]\n",
    "\n",
    "# Check if the list is sorted in ascending or descending order\n",
    "ascending = all(my_list[i] <= my_list[i + 1] for i in range(len(my_list) - 1)) ## ensuring ur first element less than second and so on.\n",
    "descending = all(my_list[i] >= my_list[i + 1] for i in range(len(my_list) - 1)) ## unsuring ur first element greater than second and so on.\n",
    "\n",
    "\n",
    "if ascending or descending:\n",
    "    print(\"The list is sorted.\")\n",
    "else:\n",
    "    print(\"The list is not sorted.\")\n"
   ]
  },
  {
   "cell_type": "markdown",
   "id": "cd988814-162c-417c-b1fe-c76def10fd62",
   "metadata": {},
   "source": [
    "17.Write a code to merge two sorted lists into a single sorted list."
   ]
  },
  {
   "cell_type": "code",
   "execution_count": 34,
   "id": "1d4dc67e-905d-4ab0-9fbf-404d2dac4b4f",
   "metadata": {},
   "outputs": [
    {
     "name": "stdout",
     "output_type": "stream",
     "text": [
      "[1, 2, 3, 4, 5, 6]\n"
     ]
    }
   ],
   "source": [
    "list1 = [3, 1, 4]\n",
    "list2 = [6, 5, 2]\n",
    "\n",
    "# Merge the lists we can also say concatenation\n",
    "merged_list = list1 + list2\n",
    "\n",
    "# Sort the merged list means will be in ascending order.\n",
    "sorted_list = sorted(merged_list)\n",
    "\n",
    "print(sorted_list) \n"
   ]
  },
  {
   "cell_type": "markdown",
   "id": "de14cbb0-6e81-4187-9dc7-bc323df1c1b8",
   "metadata": {},
   "source": [
    "18.Implement a code to find the intersection of two given lists."
   ]
  },
  {
   "cell_type": "code",
   "execution_count": 35,
   "id": "a3ffc513-cd15-4d7f-a20e-65dc68c364b1",
   "metadata": {},
   "outputs": [
    {
     "name": "stdout",
     "output_type": "stream",
     "text": [
      "[4, 5]\n"
     ]
    }
   ],
   "source": [
    "list1 = [1, 2, 3, 4, 5]\n",
    "list2 = [4, 5, 6, 7, 8]\n",
    "\n",
    "# Convert lists to sets and find intersection . we know that in sets intersection they give us common elements that are present in list 1 and list 2.\n",
    "set1 = set(list1)\n",
    "set2 = set(list2)\n",
    "intersection = list(set1 & set2)\n",
    "\n",
    "print(intersection)  \n"
   ]
  },
  {
   "cell_type": "markdown",
   "id": "799a7709-84d6-4027-a13f-f6b6b1210328",
   "metadata": {},
   "source": [
    "19.Create a code to find the union of two lists without duplicates."
   ]
  },
  {
   "cell_type": "code",
   "execution_count": 36,
   "id": "2440a31b-1427-49e3-83d8-e9b646e616c1",
   "metadata": {},
   "outputs": [
    {
     "name": "stdout",
     "output_type": "stream",
     "text": [
      "[1, 2, 3, 4, 5, 6, 7, 8]\n"
     ]
    }
   ],
   "source": [
    "# Two lists\n",
    "list1 = [1, 2, 3, 4, 5]\n",
    "list2 = [4, 5, 6, 7, 8]\n",
    "\n",
    "# We use set because to remove repetaedly elements.\n",
    "union = list(set(list1) | set(list2))\n",
    "\n",
    "print(union)  \n"
   ]
  },
  {
   "cell_type": "markdown",
   "id": "a232ce37-c2d9-4dfe-b8e3-caefd3497887",
   "metadata": {},
   "source": [
    "20.Write a code to shuffle a given list randomly without using any built-in shuffle functions."
   ]
  },
  {
   "cell_type": "code",
   "execution_count": 37,
   "id": "ee84f478-853b-4bd0-8cae-2e89ec101ef3",
   "metadata": {},
   "outputs": [
    {
     "name": "stdout",
     "output_type": "stream",
     "text": [
      "[2, 1, 4, 3, 6, 5]\n"
     ]
    }
   ],
   "source": [
    "# List to swap adjacent elements\n",
    "my_list = [1, 2, 3, 4, 5, 6]\n",
    "\n",
    "# Swap adjacent elements\n",
    "i = 0\n",
    "while i < len(my_list) - 1:\n",
    "    # Swap elements at indices i and i + 1\n",
    "    my_list[i], my_list[i + 1] = my_list[i + 1], my_list[i]\n",
    "    # Move to the next pair\n",
    "    i += 2 ## move to the next pair of adjacent elements.it is up to us we can also incremnet by 3 then it will be 3,2,1 and so on.\n",
    "\n",
    "# Print the modified list\n",
    "print(my_list)  \n"
   ]
  },
  {
   "cell_type": "code",
   "execution_count": 38,
   "id": "fa93d0d9-9e6d-436b-bd1e-2ad7fe21e2b2",
   "metadata": {},
   "outputs": [
    {
     "name": "stdout",
     "output_type": "stream",
     "text": [
      "[3, 2, 1, 6, 5, 4]\n"
     ]
    }
   ],
   "source": [
    "# In this lets try to incremnet by 3 now it will be 3,2,1 qnd 6,5,4.\n",
    "\n",
    "my_list = [1, 2, 3, 4, 5, 6]\n",
    "\n",
    "# Swap adjacent elements\n",
    "i = 0\n",
    "while i < len(my_list) - 1:\n",
    "    # Swap elements at indices i and i + 1\n",
    "    my_list[i], my_list[i + 2] = my_list[i + 2], my_list[i]\n",
    "    # Move to the next pair\n",
    "    i += 3 ## It is up to us we can also incremnet by 3 then it will be 3,2,1 and so on.\n",
    "\n",
    "# Print the modified list\n",
    "print(my_list)  \n"
   ]
  },
  {
   "cell_type": "markdown",
   "id": "c13e152e-9ab8-48fc-823e-cc51497948e5",
   "metadata": {},
   "source": [
    "21.Write a code that takes two tuples as input and returns a new tuple containing elements that are common to both input tuples."
   ]
  },
  {
   "cell_type": "code",
   "execution_count": 39,
   "id": "162b8fb1-9504-4ec8-b70f-7764fae2f7a5",
   "metadata": {},
   "outputs": [
    {
     "name": "stdout",
     "output_type": "stream",
     "text": [
      "(3, 4)\n"
     ]
    }
   ],
   "source": [
    "def common_elements(tuple1, tuple2):\n",
    "    return tuple(set(tuple1) & set(tuple2)) ## We took sets of tuple because it gives unique elements and take intersection so that we can find common elements thats are present in both tuples. \n",
    "\n",
    "tuple1 = (1, 2, 3, 4)\n",
    "tuple2 = (3, 4, 5, 6)\n",
    "\n",
    "result = common_elements(tuple1, tuple2)\n",
    "print(result)\n"
   ]
  },
  {
   "cell_type": "markdown",
   "id": "b814c072-372c-4e17-a24b-39c2fa1ef024",
   "metadata": {},
   "source": [
    "22.Create a code that prompts the user to enter two sets of integers separated by commas. Then, print the intersection of these two sets."
   ]
  },
  {
   "cell_type": "code",
   "execution_count": 40,
   "id": "be872f74-ac41-4ffb-ba43-401e87022344",
   "metadata": {},
   "outputs": [
    {
     "name": "stdin",
     "output_type": "stream",
     "text": [
      "Enter the first set of integers, separated by commas:  1,2,3,4\n",
      "Enter the second set of integers, separated by commas:  3,4,5,6\n"
     ]
    },
    {
     "name": "stdout",
     "output_type": "stream",
     "text": [
      "The intersection is: {3, 4}\n"
     ]
    }
   ],
   "source": [
    "set1 = set(map(int, input(\"Enter the first set of integers, separated by commas: \").split(',')))\n",
    "set2 = set(map(int, input(\"Enter the second set of integers, separated by commas: \").split(',')))\n",
    "\n",
    "## input(....) . prompt the user to enter a set of integer seperated by commas.\n",
    "## splits(',') . splits the input strings by adding commas to the list.\n",
    "## map(int,...) . convert each item in te list to an integer.\n",
    "## we use set in this case because we know that it gives unique elements.\n",
    "## we use intersection so that we find common elements from the given two sets.\n",
    "\n",
    "\n",
    "intersection = set1.intersection(set2)\n",
    "print(\"The intersection is:\", intersection)"
   ]
  },
  {
   "cell_type": "markdown",
   "id": "c3b35e38-7f33-464b-886f-9d3cedf2ff6d",
   "metadata": {},
   "source": [
    "23.Write a code to concatenate two tuples.The function should take two tuples as input and return a new tuple containing elements from both input tuples."
   ]
  },
  {
   "cell_type": "code",
   "execution_count": 41,
   "id": "01af23d9-4e4f-49dd-934d-2b8754a0621f",
   "metadata": {},
   "outputs": [
    {
     "name": "stdout",
     "output_type": "stream",
     "text": [
      "(1, 2, 3, 4, 5, 6)\n"
     ]
    }
   ],
   "source": [
    "def concatenate_tuples(tuple1, tuple2):\n",
    "    return tuple1 + tuple2\n",
    "\n",
    "tuple1 = (1, 2, 3)\n",
    "tuple2 = (4, 5, 6)\n",
    "\n",
    "result = concatenate_tuples(tuple1, tuple2)\n",
    "print(result)\n"
   ]
  },
  {
   "cell_type": "markdown",
   "id": "56466fe6-c8ad-4a82-96e0-3c9496afb9bd",
   "metadata": {},
   "source": [
    "24.Develop a code that prompts the user to input two sets of strings. Then, print the elements that are present in the first set but not in the second set."
   ]
  },
  {
   "cell_type": "code",
   "execution_count": 44,
   "id": "d6d414bb-f17f-46a8-a048-f11c0bf94ed0",
   "metadata": {},
   "outputs": [
    {
     "name": "stdin",
     "output_type": "stream",
     "text": [
      "Enter the first set of strings, separated by commas:  1,2,3,4,4\n",
      "Enter the second set of strings, separated by commas:  5,6,7,8,9\n"
     ]
    },
    {
     "name": "stdout",
     "output_type": "stream",
     "text": [
      "Elements present in the first set but not in the second set: {'3', '1', '4', '2'}\n"
     ]
    }
   ],
   "source": [
    "set1 = set(input(\"Enter the first set of strings, separated by commas: \").split(','))\n",
    "set2 = set(input(\"Enter the second set of strings, separated by commas: \").split(','))\n",
    "\n",
    "difference = set1 - set2 ## Find elements in set 1 that are not in s2\n",
    "print(\"Elements present in the first set but not in the second set:\", difference)"
   ]
  },
  {
   "cell_type": "markdown",
   "id": "215daf4c-bbdd-45ce-bfb7-386ad18c0ef2",
   "metadata": {},
   "source": [
    "25.Create a code that takes a tuple and two integers as input.The function should return a new tuple containing elements from the original tuple within the specified range of indices."
   ]
  },
  {
   "cell_type": "code",
   "execution_count": 45,
   "id": "36fda79e-9816-47b8-8a34-a3299b9ce903",
   "metadata": {},
   "outputs": [
    {
     "name": "stdout",
     "output_type": "stream",
     "text": [
      "(20, 30, 40, 50)\n"
     ]
    }
   ],
   "source": [
    "def tuple(t, start, end):\n",
    "    return t[start:end]\n",
    "\n",
    "tuple1 = (10, 20, 30, 40, 50, 60)\n",
    "start_index = 1  # starting from index 1\n",
    "end_index = 5    # up to (but not including) index 5\n",
    "\n",
    "result = tuple(tuple1, start_index, end_index) # one tuple and two integere as start and end.\n",
    "print(result)"
   ]
  },
  {
   "cell_type": "markdown",
   "id": "ece868b4-96ed-4ce2-8980-5d7b6e6482f7",
   "metadata": {},
   "source": [
    "26.Write a code that prompts the user to input two sets of characters. Then, print the union of these two sets."
   ]
  },
  {
   "cell_type": "code",
   "execution_count": 46,
   "id": "e3ca221d-9fc3-4a18-ac0a-67ca19b6bc6d",
   "metadata": {},
   "outputs": [
    {
     "name": "stdin",
     "output_type": "stream",
     "text": [
      "Enter the first set of characters, separated by commas:  1,2,3,4\n",
      "Enter the second set of characters, separated by commas:  4,5,6,7\n"
     ]
    },
    {
     "name": "stdout",
     "output_type": "stream",
     "text": [
      "The union of the two sets is: {'1', '3', '6', '2', '7', '5', '4'}\n"
     ]
    }
   ],
   "source": [
    "set1 = set(input(\"Enter the first set of characters, separated by commas: \").split(','))\n",
    "set2 = set(input(\"Enter the second set of characters, separated by commas: \").split(','))\n",
    "\n",
    "\n",
    "union_set = set1 | set2\n",
    "print(\"The union of the two sets is:\", union_set)\n",
    "\n",
    "## In this u will se that union is not in order because it is an unordered collections that's why it can be any order."
   ]
  },
  {
   "cell_type": "markdown",
   "id": "f7f2b26d-dbc0-43d5-b38e-1851ff690c59",
   "metadata": {},
   "source": [
    "27.Develop a code that takes a tuple of integers as input. The function should return the maximum and minimum values from the tuple using tuple unpacking."
   ]
  },
  {
   "cell_type": "code",
   "execution_count": 47,
   "id": "ae6c6261-5a3e-4d61-962d-534e47294c40",
   "metadata": {},
   "outputs": [
    {
     "name": "stdout",
     "output_type": "stream",
     "text": [
      "Max: 100\n",
      "Min: 1\n"
     ]
    }
   ],
   "source": [
    "def max_min(values):\n",
    "    return max(values), min(values)\n",
    "\n",
    "# Example usage:\n",
    "numbers = (10, 4, 7, 1, 12,20,45,100)\n",
    "max_value, min_value = max_min(numbers)\n",
    "print(\"Max:\", max_value)\n",
    "print(\"Min:\", min_value)\n"
   ]
  },
  {
   "cell_type": "markdown",
   "id": "1206fed1-f959-4d34-b7ee-d2848815bc33",
   "metadata": {},
   "source": [
    "28.Create a code that defines two sets of integers. Then, print the union, intersection, and difference of these two sets."
   ]
  },
  {
   "cell_type": "code",
   "execution_count": 48,
   "id": "a688f5d6-4334-44df-b5e2-4f174c758e86",
   "metadata": {},
   "outputs": [
    {
     "name": "stdout",
     "output_type": "stream",
     "text": [
      "Union: {1, 2, 3, 4, 5, 6, 7, 8}\n",
      "Intersection: {4, 5}\n",
      "Difference (set1 - set2): {1, 2, 3}\n"
     ]
    }
   ],
   "source": [
    "set1 = {1, 2, 3, 4, 5}\n",
    "set2 = {4, 5, 6, 7, 8}\n",
    "\n",
    "# Compute the union, intersection, and difference\n",
    "union = set1 | set2\n",
    "intersection = set1 & set2\n",
    "difference = set1 - set2\n",
    "\n",
    "print(\"Union:\", union)\n",
    "print(\"Intersection:\", intersection)\n",
    "print(\"Difference (set1 - set2):\", difference)\n"
   ]
  },
  {
   "cell_type": "markdown",
   "id": "802657cf-45a7-4c47-9b9d-b52cabc8b73c",
   "metadata": {},
   "source": [
    "29.Write a code that takes a tuple and an element as input. The function should return the count of occurrences of the given element in the tuple."
   ]
  },
  {
   "cell_type": "code",
   "execution_count": 49,
   "id": "fcc7100b-e53e-42c9-bd27-323c670c16f4",
   "metadata": {},
   "outputs": [
    {
     "name": "stdout",
     "output_type": "stream",
     "text": [
      "The element 2 occurs 3 times.\n"
     ]
    }
   ],
   "source": [
    "def count_occurrences(tpl, element):\n",
    "    return tpl.count(element)\n",
    "\n",
    "my_tuple = (1, 2, 3, 2, 4, 2, 5)\n",
    "element = 2\n",
    "count = count_occurrences(my_tuple, element)\n",
    "print(f\"The element {element} occurs {count} times.\")\n"
   ]
  },
  {
   "cell_type": "markdown",
   "id": "b20201b8-d7b5-4eec-99b2-2725e7fde49a",
   "metadata": {},
   "source": [
    "30.Develop a code that prompts the user to input two sets of strings. Then, print the symmetric difference of these two sets."
   ]
  },
  {
   "cell_type": "code",
   "execution_count": 1,
   "id": "041bf74b-6f2a-4ddb-b081-49d18cd0f134",
   "metadata": {},
   "outputs": [
    {
     "name": "stdin",
     "output_type": "stream",
     "text": [
      "Enter the first set of strings, separated by spaces:  apple banana orange\n",
      "Enter the second set of strings, separated by spaces:  banana orange grape\n"
     ]
    },
    {
     "name": "stdout",
     "output_type": "stream",
     "text": [
      "Symmetric Difference: {'grape', 'apple'}\n"
     ]
    }
   ],
   "source": [
    "# Prompt the user to input two sets of strings\n",
    "set1 = set(input(\"Enter the first set of strings, separated by spaces: \").split())\n",
    "set2 = set(input(\"Enter the second set of strings, separated by spaces: \").split())\n",
    "\n",
    "symmetric_diff = set1.symmetric_difference(set2)\n",
    "\n",
    "print(\"Symmetric Difference:\", symmetric_diff)"
   ]
  },
  {
   "cell_type": "markdown",
   "id": "66d98a30-7477-4128-985d-173478fb768a",
   "metadata": {},
   "source": [
    "31.Write a code that takes a list of words as input and returns a dictionary where the keys are unique words and the values are the frequencies of those words in the input list."
   ]
  },
  {
   "cell_type": "code",
   "execution_count": 1,
   "id": "4187358d-438b-4adb-b028-0acbc0ecc8f4",
   "metadata": {},
   "outputs": [
    {
     "name": "stdout",
     "output_type": "stream",
     "text": [
      "{'apple': 3, 'banana': 2, 'orange': 1, 'lemon': 1, 'watermelon': 1}\n"
     ]
    }
   ],
   "source": [
    "def word_frequencies(words):\n",
    "    freq_dict = {}\n",
    "    for word in words:\n",
    "        if word in freq_dict:\n",
    "            freq_dict[word] += 1\n",
    "        else:\n",
    "            freq_dict[word] = 1\n",
    "    return freq_dict\n",
    "\n",
    "words = [\"apple\", \"banana\", \"apple\", \"orange\", \"banana\", \"apple\",\"lemon\",\"watermelon\"]\n",
    "result = word_frequencies(words)\n",
    "print(result)"
   ]
  },
  {
   "cell_type": "markdown",
   "id": "2da65e8d-fa26-46a1-9211-62630c53e9b7",
   "metadata": {},
   "source": [
    "32.Write a code that takes two dictionaries as input and merges them into a single dictionary. If there are common keys, the values should be added together."
   ]
  },
  {
   "cell_type": "code",
   "execution_count": 2,
   "id": "a640cf05-449f-403d-9170-32c257c553c2",
   "metadata": {},
   "outputs": [
    {
     "name": "stdout",
     "output_type": "stream",
     "text": [
      "{'a': 1, 'b': 6, 'c': 4}\n"
     ]
    }
   ],
   "source": [
    "def merge_dicts(dict1, dict2):\n",
    "    for key in dict2:  ## loop through each key in dict 2.\n",
    "        if key in dict1:  ## for each key in dict 2 checking if the key is in dict1\n",
    "            dict1[key] += dict2[key] ## if we have same key than we add\n",
    "        else:\n",
    "            dict1[key] = dict2[key]\n",
    "    return dict1\n",
    "\n",
    "dict1 = {'a': 1, 'b': 3}\n",
    "dict2 = {'b': 3, 'c': 4}\n",
    "result = merge_dicts(dict1, dict2)\n",
    "print(result)"
   ]
  },
  {
   "cell_type": "markdown",
   "id": "44f94f9d-2b5e-443a-950e-b560a7aa49bc",
   "metadata": {},
   "source": [
    "33.Write a code to access a value in a nested dictionary. The function should take the dictionary and a list of keys as input, and return the corresponding value. If any of the keys do not exist in the dictionary, the function should return None."
   ]
  },
  {
   "cell_type": "code",
   "execution_count": 3,
   "id": "d6186e10-df50-4a6a-a0c3-5d3af809d43d",
   "metadata": {},
   "outputs": [
    {
     "name": "stdout",
     "output_type": "stream",
     "text": [
      "42\n",
      "None\n"
     ]
    }
   ],
   "source": [
    "def get_nested_value(d, keys):\n",
    "    for key in keys:\n",
    "        if key in d:\n",
    "            d = d[key]\n",
    "        else:\n",
    "            return None\n",
    "    return d\n",
    "\n",
    "# Example usage\n",
    "nested_dict = {'a': {'b': {'c': 42}}}\n",
    "keys = ['a', 'b', 'c']\n",
    "result = get_nested_value(nested_dict, keys)\n",
    "print(result)  \n",
    "\n",
    "# Example when key is not found\n",
    "keys_not_found = ['a', 'x', 'c']\n",
    "result_not_found = get_nested_value(nested_dict, keys_not_found)\n",
    "print(result_not_found) "
   ]
  },
  {
   "cell_type": "markdown",
   "id": "8c126957-2cd0-4d34-86ab-2bd4d2af665d",
   "metadata": {},
   "source": [
    "34.Write a code that takes a dictionary as input and returns a sorted version of it based on the values. You can choose whether to sort in ascending or descending order."
   ]
  },
  {
   "cell_type": "code",
   "execution_count": 4,
   "id": "44d4b2e9-73c4-4ace-84cf-ed1efac76dd2",
   "metadata": {},
   "outputs": [
    {
     "name": "stdout",
     "output_type": "stream",
     "text": [
      "{'banana': 2, 'apple': 5, 'orange': 8}\n"
     ]
    }
   ],
   "source": [
    "## ascending order\n",
    "\n",
    "def sort_dict_by_values(d):\n",
    "    # Sort the dictionary by values\n",
    "    sorted_items = sorted(d.items(), key=lambda item: item[1])\n",
    "    \n",
    "    # d.item() give a list of (key,value)\n",
    "    # key = lambda item: item[1]  tell it to sort base on the values\n",
    "    \n",
    "    # Convert the sorted items back to a dictionary\n",
    "    return dict(sorted_items)\n",
    "\n",
    "# Example usage\n",
    "my_dict = {'apple': 5, 'banana': 2, 'orange': 8}\n",
    "sorted_dict = sort_dict_by_values(my_dict)\n",
    "print(sorted_dict)  # Output: {'banana': 2, 'apple': 5, 'orange': 8}\n"
   ]
  },
  {
   "cell_type": "code",
   "execution_count": 5,
   "id": "10afde9e-3291-435f-8860-56fc3d356b99",
   "metadata": {},
   "outputs": [
    {
     "name": "stdout",
     "output_type": "stream",
     "text": [
      "{'orange': 8, 'apple': 5, 'banana': 2}\n"
     ]
    }
   ],
   "source": [
    "## Descending order\n",
    "\n",
    "def sort_dict_by_values_desc(d):\n",
    "    # Sort the dictionary by values in descending order\n",
    "    sorted_items = sorted(d.items(), key=lambda item: item[1], reverse=True)  ## reverse = True sorts in descending order.\n",
    "    # Convert the sorted items back to a dictionary\n",
    "    return dict(sorted_items)\n",
    "\n",
    "# Example usage\n",
    "my_dict = {'apple': 5, 'banana': 2, 'orange': 8}\n",
    "sorted_dict = sort_dict_by_values_desc(my_dict)\n",
    "print(sorted_dict)  # Output: {'orange': 8, 'apple': 5, 'banana': 2}\n"
   ]
  },
  {
   "cell_type": "markdown",
   "id": "53b909e8-d6c3-4522-91bd-9c6128e1f803",
   "metadata": {},
   "source": [
    "35.Write a code that inverts a dictionary,swapping keys and values.Ensure that the inverted dictionary correctly handles cases where multiple keys have the same value by storing the keys as a list in the inverted dictionary."
   ]
  },
  {
   "cell_type": "code",
   "execution_count": 6,
   "id": "cc0df7ed-8304-491e-ac98-af9fa33a9cc4",
   "metadata": {},
   "outputs": [
    {
     "name": "stdout",
     "output_type": "stream",
     "text": [
      "{1: ['a', 'c'], 2: ['b'], 3: ['d']}\n"
     ]
    }
   ],
   "source": [
    "def invert_dict(d):\n",
    "    inverted_dict = {}\n",
    "    for key, value in d.items():\n",
    "        if value in inverted_dict:\n",
    "            # Append key to the list of keys for the same value\n",
    "            inverted_dict[value].append(key)\n",
    "        else:\n",
    "            # Create a new list with the current key\n",
    "            inverted_dict[value] = [key]\n",
    "    return inverted_dict\n",
    "\n",
    "# Example usage\n",
    "original_dict = {'a': 1, 'b': 2, 'c': 1, 'd': 3}\n",
    "inverted_dict = invert_dict(original_dict)\n",
    "print(inverted_dict)\n"
   ]
  },
  {
   "cell_type": "code",
   "execution_count": null,
   "id": "c939f86e-2951-4661-a5d5-6dbea7d6e9da",
   "metadata": {},
   "outputs": [],
   "source": []
  }
 ],
 "metadata": {
  "kernelspec": {
   "display_name": "Python 3 (ipykernel)",
   "language": "python",
   "name": "python3"
  },
  "language_info": {
   "codemirror_mode": {
    "name": "ipython",
    "version": 3
   },
   "file_extension": ".py",
   "mimetype": "text/x-python",
   "name": "python",
   "nbconvert_exporter": "python",
   "pygments_lexer": "ipython3",
   "version": "3.10.8"
  }
 },
 "nbformat": 4,
 "nbformat_minor": 5
}

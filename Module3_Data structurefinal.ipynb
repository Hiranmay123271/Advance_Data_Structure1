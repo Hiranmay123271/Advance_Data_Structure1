{
 "cells": [
  {
   "cell_type": "markdown",
   "id": "87f1c08a-906c-4648-8a1f-d3d241da1baf",
   "metadata": {},
   "source": [
    "1.Discuss string slicing and provide examples.\n",
    "\n",
    "Ans: we know that each character in a string has index which is starting from 0.\n",
    "for ex:\"Character\"\n",
    "from this example \"C\" has an index \"0\"\n",
    "\"h\" has an index \"1\" and so on...\n",
    "\n",
    "***The general syntax for slicing is [start:end:step]\n",
    "\n",
    "At first we will try to acces the elements and then slice it."
   ]
  },
  {
   "cell_type": "code",
   "execution_count": 1,
   "id": "3dd13bfa-a044-4571-b2ad-c286a69e178e",
   "metadata": {},
   "outputs": [
    {
     "data": {
      "text/plain": [
       "'Character'"
      ]
     },
     "execution_count": 1,
     "metadata": {},
     "output_type": "execute_result"
    }
   ],
   "source": [
    "g=\"Character\"\n",
    "g"
   ]
  },
  {
   "cell_type": "code",
   "execution_count": 2,
   "id": "09e47b50-1652-4d59-a04e-3248859e7333",
   "metadata": {},
   "outputs": [
    {
     "data": {
      "text/plain": [
       "'C'"
      ]
     },
     "execution_count": 2,
     "metadata": {},
     "output_type": "execute_result"
    }
   ],
   "source": [
    "g[0]"
   ]
  },
  {
   "cell_type": "code",
   "execution_count": 3,
   "id": "49890811-6166-44d4-ab1f-469907d3a97b",
   "metadata": {},
   "outputs": [
    {
     "data": {
      "text/plain": [
       "'Character'"
      ]
     },
     "execution_count": 3,
     "metadata": {},
     "output_type": "execute_result"
    }
   ],
   "source": [
    "### Now lets take an example \n",
    "slic = \"Character\"\n",
    "slic"
   ]
  },
  {
   "cell_type": "code",
   "execution_count": 4,
   "id": "d3a449ae-f560-4d3e-9ca9-2a6471b2e9a1",
   "metadata": {},
   "outputs": [
    {
     "data": {
      "text/plain": [
       "'C'"
      ]
     },
     "execution_count": 4,
     "metadata": {},
     "output_type": "execute_result"
    }
   ],
   "source": [
    "slic[0]"
   ]
  },
  {
   "cell_type": "code",
   "execution_count": 5,
   "id": "d030fafe-4dae-4f12-bd35-4eda166b4d17",
   "metadata": {},
   "outputs": [
    {
     "data": {
      "text/plain": [
       "'r'"
      ]
     },
     "execution_count": 5,
     "metadata": {},
     "output_type": "execute_result"
    }
   ],
   "source": [
    "slic[-1]"
   ]
  },
  {
   "cell_type": "code",
   "execution_count": 6,
   "id": "d4785d9c-79ea-4515-90d0-3320c44c01d6",
   "metadata": {},
   "outputs": [
    {
     "data": {
      "text/plain": [
       "'Character'"
      ]
     },
     "execution_count": 6,
     "metadata": {},
     "output_type": "execute_result"
    }
   ],
   "source": [
    "slic"
   ]
  },
  {
   "cell_type": "code",
   "execution_count": 9,
   "id": "3f2cdc35-0595-4c6e-8bae-fe6516d89aba",
   "metadata": {},
   "outputs": [
    {
     "data": {
      "text/plain": [
       "'Char'"
      ]
     },
     "execution_count": 9,
     "metadata": {},
     "output_type": "execute_result"
    }
   ],
   "source": [
    "slic[:4]  ### In this we saw that slices from beggining to index 4 where  4 is excluded."
   ]
  },
  {
   "cell_type": "code",
   "execution_count": 10,
   "id": "f5e8a621-87bc-4187-8e70-69d66cac0a92",
   "metadata": {},
   "outputs": [
    {
     "data": {
      "text/plain": [
       "'aracter'"
      ]
     },
     "execution_count": 10,
     "metadata": {},
     "output_type": "execute_result"
    }
   ],
   "source": [
    "slic[2:]  ### In this we see that slices from index 2 to end."
   ]
  },
  {
   "cell_type": "code",
   "execution_count": 11,
   "id": "688fd93a-dd48-4021-9b63-e078eafb45c8",
   "metadata": {},
   "outputs": [
    {
     "data": {
      "text/plain": [
       "'racter'"
      ]
     },
     "execution_count": 11,
     "metadata": {},
     "output_type": "execute_result"
    }
   ],
   "source": [
    "slic[3:]"
   ]
  },
  {
   "cell_type": "code",
   "execution_count": 12,
   "id": "cebfdc53-f6df-4064-8935-6bb49436a355",
   "metadata": {},
   "outputs": [
    {
     "data": {
      "text/plain": [
       "'Charac'"
      ]
     },
     "execution_count": 12,
     "metadata": {},
     "output_type": "execute_result"
    }
   ],
   "source": [
    "slic[:6]"
   ]
  },
  {
   "cell_type": "code",
   "execution_count": 13,
   "id": "1f025760-3a1c-418e-880a-fcca6291bb7b",
   "metadata": {},
   "outputs": [
    {
     "data": {
      "text/plain": [
       "'Characte'"
      ]
     },
     "execution_count": 13,
     "metadata": {},
     "output_type": "execute_result"
    }
   ],
   "source": [
    "#### similarly we also can do for negative index\n",
    "slic[:-1]"
   ]
  },
  {
   "cell_type": "code",
   "execution_count": 14,
   "id": "a08f3871-1528-406f-9653-9601928aa5da",
   "metadata": {},
   "outputs": [
    {
     "data": {
      "text/plain": [
       "'retcarahC'"
      ]
     },
     "execution_count": 14,
     "metadata": {},
     "output_type": "execute_result"
    }
   ],
   "source": [
    "slic[::-1]  ### In this we saw the reverse which means it is slicing from the end -1  ."
   ]
  },
  {
   "cell_type": "code",
   "execution_count": 15,
   "id": "8ff92b80-ee52-47f8-bae7-14386f404144",
   "metadata": {},
   "outputs": [
    {
     "data": {
      "text/plain": [
       "'ret'"
      ]
     },
     "execution_count": 15,
     "metadata": {},
     "output_type": "execute_result"
    }
   ],
   "source": [
    "slic[:-4:-1]"
   ]
  },
  {
   "cell_type": "markdown",
   "id": "e0fa6ae2-699f-4240-ab3e-8ca6627d444a",
   "metadata": {},
   "source": [
    "String slicing is useful when you only need certain part of index like extracting the first name from a full name."
   ]
  },
  {
   "cell_type": "markdown",
   "id": "98b2356e-a6a5-4c56-a420-36ad2e6ee52d",
   "metadata": {},
   "source": [
    "2.Explain the key features of lists in Python.\n",
    "\n",
    "Ans: List maintain the ordered of elements.The first item you add to the list will stay at same position,untill and unless I changed explicitly."
   ]
  },
  {
   "cell_type": "code",
   "execution_count": 1,
   "id": "7dd78ed2-7485-4693-b6df-bde7e9b5bbfa",
   "metadata": {},
   "outputs": [
    {
     "data": {
      "text/plain": [
       "['apple', 'banana', 'mango']"
      ]
     },
     "execution_count": 1,
     "metadata": {},
     "output_type": "execute_result"
    }
   ],
   "source": [
    "#### Now lets take an example\n",
    "\n",
    "lis_1=[\"apple\",\"banana\",\"mango\"]\n",
    "lis_1"
   ]
  },
  {
   "cell_type": "code",
   "execution_count": 2,
   "id": "1bd79fe9-6e35-4d8c-9ac7-c20ab67e6ee3",
   "metadata": {},
   "outputs": [
    {
     "data": {
      "text/plain": [
       "'apple'"
      ]
     },
     "execution_count": 2,
     "metadata": {},
     "output_type": "execute_result"
    }
   ],
   "source": [
    "lis_1[0]  ### it will reamin apple  itself for index \"0\" untill and unless I cahnged"
   ]
  },
  {
   "cell_type": "code",
   "execution_count": 3,
   "id": "2f2b8081-f9b3-4467-9786-bd78314332ef",
   "metadata": {},
   "outputs": [
    {
     "data": {
      "text/plain": [
       "'mango'"
      ]
     },
     "execution_count": 3,
     "metadata": {},
     "output_type": "execute_result"
    }
   ],
   "source": [
    "lis_1[2]"
   ]
  },
  {
   "cell_type": "code",
   "execution_count": 4,
   "id": "bbc3d9f6-c94f-4d61-9a8e-ae4eecd4d39e",
   "metadata": {},
   "outputs": [],
   "source": [
    "### List is also an mutable because we can change after we creating list which means we can modified like adding,removing,etc.."
   ]
  },
  {
   "cell_type": "code",
   "execution_count": 5,
   "id": "e5e97850-ad02-4e6e-bad0-d79275c72988",
   "metadata": {},
   "outputs": [
    {
     "data": {
      "text/plain": [
       "[1, 2, 3, 4, 5]"
      ]
     },
     "execution_count": 5,
     "metadata": {},
     "output_type": "execute_result"
    }
   ],
   "source": [
    "### now lets take an example\n",
    "\n",
    "lis=[1,2,3,4,5]\n",
    "lis"
   ]
  },
  {
   "cell_type": "markdown",
   "id": "203c0eaf-70ea-4126-b1cd-b263df88fa46",
   "metadata": {},
   "source": [
    "Now lets say I want to exchange 1 which is in list, with apple or may be anything"
   ]
  },
  {
   "cell_type": "code",
   "execution_count": 6,
   "id": "2a7ee8a7-14f5-4d72-8c01-16989fb738df",
   "metadata": {},
   "outputs": [
    {
     "data": {
      "text/plain": [
       "1"
      ]
     },
     "execution_count": 6,
     "metadata": {},
     "output_type": "execute_result"
    }
   ],
   "source": [
    "lis[0]"
   ]
  },
  {
   "cell_type": "code",
   "execution_count": 7,
   "id": "303d3c9b-6425-4a72-ba47-3f680415ec1e",
   "metadata": {},
   "outputs": [
    {
     "data": {
      "text/plain": [
       "['apple', 2, 3, 4, 5]"
      ]
     },
     "execution_count": 7,
     "metadata": {},
     "output_type": "execute_result"
    }
   ],
   "source": [
    "lis[0]=\"apple\"\n",
    "lis"
   ]
  },
  {
   "cell_type": "markdown",
   "id": "b2b0b7dc-6c99-42b2-87a4-6e266e609463",
   "metadata": {},
   "source": [
    "we also can add elements or remove elements from the list."
   ]
  },
  {
   "cell_type": "code",
   "execution_count": 8,
   "id": "8fbd71ef-3a08-4ce6-83b5-9305c7059632",
   "metadata": {},
   "outputs": [
    {
     "data": {
      "text/plain": [
       "['apple', 2, 3, 4, 5]"
      ]
     },
     "execution_count": 8,
     "metadata": {},
     "output_type": "execute_result"
    }
   ],
   "source": [
    "lis"
   ]
  },
  {
   "cell_type": "code",
   "execution_count": 9,
   "id": "251ecfe1-07f0-46cc-8bda-f523e75784a4",
   "metadata": {},
   "outputs": [
    {
     "data": {
      "text/plain": [
       "['apple', 2, 3, 4, 5]"
      ]
     },
     "execution_count": 9,
     "metadata": {},
     "output_type": "execute_result"
    }
   ],
   "source": [
    "## now lets assume I want to add some ones name on lis\n",
    "lis"
   ]
  },
  {
   "cell_type": "code",
   "execution_count": 11,
   "id": "a35ab44c-96c2-475e-aac4-d5c12e2864bd",
   "metadata": {},
   "outputs": [
    {
     "data": {
      "text/plain": [
       "['apple', 2, 3, 4, 5, 'ajay']"
      ]
     },
     "execution_count": 11,
     "metadata": {},
     "output_type": "execute_result"
    }
   ],
   "source": [
    "lis.append(\"ajay\")\n",
    "lis"
   ]
  },
  {
   "cell_type": "markdown",
   "id": "b2c37a49-5c90-4722-a858-d0e56e80d6de",
   "metadata": {},
   "source": [
    "we can see that \"ajay\" is added in list."
   ]
  },
  {
   "cell_type": "code",
   "execution_count": 12,
   "id": "ac4c634c-a33e-43b2-9710-b234a9008167",
   "metadata": {},
   "outputs": [
    {
     "data": {
      "text/plain": [
       "['apple', 2, 3, 4, 5, 'ajay']"
      ]
     },
     "execution_count": 12,
     "metadata": {},
     "output_type": "execute_result"
    }
   ],
   "source": [
    "### now lets remove an element from the list\n",
    "lis"
   ]
  },
  {
   "cell_type": "code",
   "execution_count": 14,
   "id": "e274fdb4-0aa6-4567-bba3-0efd6ab8b6c7",
   "metadata": {},
   "outputs": [
    {
     "data": {
      "text/plain": [
       "[2, 3, 4, 5, 'ajay']"
      ]
     },
     "execution_count": 14,
     "metadata": {},
     "output_type": "execute_result"
    }
   ],
   "source": [
    "lis.remove(\"apple\")\n",
    "lis"
   ]
  },
  {
   "cell_type": "markdown",
   "id": "60f3a06e-32ad-4e29-8728-e5a179c78d6d",
   "metadata": {},
   "source": [
    "we saw that apple is deleted."
   ]
  },
  {
   "cell_type": "code",
   "execution_count": 15,
   "id": "5f06f97f-f782-49a0-bea7-4ab6de8c2f80",
   "metadata": {},
   "outputs": [],
   "source": [
    "### List can also be heterogeneous which means it can be integers,imaginary number,string,etc.."
   ]
  },
  {
   "cell_type": "code",
   "execution_count": 17,
   "id": "177988f5-0f49-42db-b829-a81d0f463122",
   "metadata": {},
   "outputs": [
    {
     "data": {
      "text/plain": [
       "[1, (3+5j), 'rahul', 4.5, [1, 2]]"
      ]
     },
     "execution_count": 17,
     "metadata": {},
     "output_type": "execute_result"
    }
   ],
   "source": [
    "lis=[1,3+5j,\"rahul\",4.5,[1,2]]\n",
    "lis"
   ]
  },
  {
   "cell_type": "code",
   "execution_count": 18,
   "id": "cd68be36-6c30-40e2-9fc3-f96078112bce",
   "metadata": {},
   "outputs": [
    {
     "data": {
      "text/plain": [
       "list"
      ]
     },
     "execution_count": 18,
     "metadata": {},
     "output_type": "execute_result"
    }
   ],
   "source": [
    "type(lis)"
   ]
  },
  {
   "cell_type": "code",
   "execution_count": 19,
   "id": "98044297-7805-4e7a-bfa1-470a576c575e",
   "metadata": {},
   "outputs": [
    {
     "data": {
      "text/plain": [
       "[1, (3+5j), 'rahul', 4.5, [1, 2]]"
      ]
     },
     "execution_count": 19,
     "metadata": {},
     "output_type": "execute_result"
    }
   ],
   "source": [
    "#### In list we can inexing and slicing\n",
    "lis"
   ]
  },
  {
   "cell_type": "code",
   "execution_count": 20,
   "id": "8c58ee34-b9e8-4ca6-beeb-7d7a7027daef",
   "metadata": {},
   "outputs": [
    {
     "data": {
      "text/plain": [
       "1"
      ]
     },
     "execution_count": 20,
     "metadata": {},
     "output_type": "execute_result"
    }
   ],
   "source": [
    "lis[0]"
   ]
  },
  {
   "cell_type": "code",
   "execution_count": 21,
   "id": "c8b8723c-fdf3-45bd-bcc3-20a7cb801bde",
   "metadata": {},
   "outputs": [
    {
     "data": {
      "text/plain": [
       "[1, (3+5j), 'rahul']"
      ]
     },
     "execution_count": 21,
     "metadata": {},
     "output_type": "execute_result"
    }
   ],
   "source": [
    "lis[:3] "
   ]
  },
  {
   "cell_type": "code",
   "execution_count": 22,
   "id": "cd598992-98c4-475e-9f0d-63a73cb39190",
   "metadata": {},
   "outputs": [
    {
     "data": {
      "text/plain": [
       "[1, (3+5j), 'rahul', 4.5, [1, 2]]"
      ]
     },
     "execution_count": 22,
     "metadata": {},
     "output_type": "execute_result"
    }
   ],
   "source": [
    "### list also can be iterable\n",
    "lis"
   ]
  },
  {
   "cell_type": "code",
   "execution_count": 37,
   "id": "74e86cb7-c6ca-4e78-833e-5c6c12ba2b04",
   "metadata": {},
   "outputs": [
    {
     "name": "stdout",
     "output_type": "stream",
     "text": [
      "1\n",
      "(3+5j)\n",
      "rahul\n",
      "4.5\n",
      "[1, 2]\n"
     ]
    }
   ],
   "source": [
    "for list1 in lis:\n",
    "    print(list1)"
   ]
  },
  {
   "cell_type": "markdown",
   "id": "77351e4a-0b7a-4ddf-9a15-163a4c347cc3",
   "metadata": {},
   "source": [
    "3.Describe how to access, modify, and delete elements in a list with examples."
   ]
  },
  {
   "cell_type": "code",
   "execution_count": 38,
   "id": "2c066a9a-646c-483f-bd07-2d49abeb5a40",
   "metadata": {},
   "outputs": [
    {
     "data": {
      "text/plain": [
       "['apple', 'mango', 'brinjal']"
      ]
     },
     "execution_count": 38,
     "metadata": {},
     "output_type": "execute_result"
    }
   ],
   "source": [
    "### Let's see first how to acces the elements\n",
    "new_sag=[\"apple\",\"mango\",\"brinjal\"]\n",
    "new_sag"
   ]
  },
  {
   "cell_type": "code",
   "execution_count": 39,
   "id": "de26523d-501a-4a29-a3f4-06beaf2cbcfd",
   "metadata": {},
   "outputs": [
    {
     "data": {
      "text/plain": [
       "'apple'"
      ]
     },
     "execution_count": 39,
     "metadata": {},
     "output_type": "execute_result"
    }
   ],
   "source": [
    "new_sag[0]"
   ]
  },
  {
   "cell_type": "code",
   "execution_count": 40,
   "id": "94504209-a4bd-4f75-9f4d-64b573d8f6a3",
   "metadata": {},
   "outputs": [
    {
     "data": {
      "text/plain": [
       "'mango'"
      ]
     },
     "execution_count": 40,
     "metadata": {},
     "output_type": "execute_result"
    }
   ],
   "source": [
    "new_sag[1]"
   ]
  },
  {
   "cell_type": "code",
   "execution_count": 41,
   "id": "eccef607-6dcf-447f-8c21-4fa193cf4e42",
   "metadata": {},
   "outputs": [
    {
     "data": {
      "text/plain": [
       "'mango'"
      ]
     },
     "execution_count": 41,
     "metadata": {},
     "output_type": "execute_result"
    }
   ],
   "source": [
    "new_sag[-2]"
   ]
  },
  {
   "cell_type": "code",
   "execution_count": 42,
   "id": "0c9134ab-7a70-49f2-baa7-b4db1fb1b99f",
   "metadata": {},
   "outputs": [
    {
     "data": {
      "text/plain": [
       "['apple', 'mango', 'brinjal']"
      ]
     },
     "execution_count": 42,
     "metadata": {},
     "output_type": "execute_result"
    }
   ],
   "source": [
    "### now lets try to modify the elements\n",
    "new_sag"
   ]
  },
  {
   "cell_type": "code",
   "execution_count": 43,
   "id": "68783592-eba0-45fd-b987-ba4288929a7f",
   "metadata": {},
   "outputs": [
    {
     "data": {
      "text/plain": [
       "'apple'"
      ]
     },
     "execution_count": 43,
     "metadata": {},
     "output_type": "execute_result"
    }
   ],
   "source": [
    "new_sag[0]"
   ]
  },
  {
   "cell_type": "code",
   "execution_count": 45,
   "id": "c8341b3c-2f2b-4f94-83cb-aa9c54325776",
   "metadata": {},
   "outputs": [
    {
     "data": {
      "text/plain": [
       "['banana', 'mango', 'brinjal']"
      ]
     },
     "execution_count": 45,
     "metadata": {},
     "output_type": "execute_result"
    }
   ],
   "source": [
    "### here we saw that one element is cahnged with other elemnts\n",
    "new_sag[0]=\"banana\"  \n",
    "new_sag"
   ]
  },
  {
   "cell_type": "code",
   "execution_count": 47,
   "id": "6f2c7f5b-c316-4fc8-9a01-a2b7d1480eb2",
   "metadata": {},
   "outputs": [
    {
     "data": {
      "text/plain": [
       "['banana', 'mango', 'brinjal']"
      ]
     },
     "execution_count": 47,
     "metadata": {},
     "output_type": "execute_result"
    }
   ],
   "source": [
    "### now lets delelte an item from list\n",
    "new_sag"
   ]
  },
  {
   "cell_type": "code",
   "execution_count": 48,
   "id": "74cb3997-8601-45d7-b2a8-2172fae1bba4",
   "metadata": {},
   "outputs": [
    {
     "data": {
      "text/plain": [
       "['mango', 'brinjal']"
      ]
     },
     "execution_count": 48,
     "metadata": {},
     "output_type": "execute_result"
    }
   ],
   "source": [
    "new_sag.remove(\"banana\")\n",
    "new_sag"
   ]
  },
  {
   "cell_type": "code",
   "execution_count": 49,
   "id": "146dd302-7539-4531-8925-3c587161aaa3",
   "metadata": {},
   "outputs": [
    {
     "data": {
      "text/plain": [
       "['apple', 'mango', 'brinjal']"
      ]
     },
     "execution_count": 49,
     "metadata": {},
     "output_type": "execute_result"
    }
   ],
   "source": [
    "new_sag=[\"apple\",\"mango\",\"brinjal\"]\n",
    "new_sag"
   ]
  },
  {
   "cell_type": "code",
   "execution_count": 50,
   "id": "3b0c7e5c-5fe1-4bfd-ae6e-d0428de07400",
   "metadata": {},
   "outputs": [
    {
     "data": {
      "text/plain": [
       "'mango'"
      ]
     },
     "execution_count": 50,
     "metadata": {},
     "output_type": "execute_result"
    }
   ],
   "source": [
    "new_sag.pop(1)"
   ]
  },
  {
   "cell_type": "code",
   "execution_count": 51,
   "id": "1fca8b8f-7ed6-4f58-85ee-4b2516df034e",
   "metadata": {},
   "outputs": [
    {
     "data": {
      "text/plain": [
       "['apple', 'brinjal']"
      ]
     },
     "execution_count": 51,
     "metadata": {},
     "output_type": "execute_result"
    }
   ],
   "source": [
    "new_sag"
   ]
  },
  {
   "cell_type": "markdown",
   "id": "8703c268-353d-4277-ac44-d76fb97a70a1",
   "metadata": {},
   "source": [
    "4.Compare and contrast tuples and lists with examples."
   ]
  },
  {
   "cell_type": "code",
   "execution_count": 52,
   "id": "7ecd7271-0265-43cb-83cb-8350e7191bee",
   "metadata": {},
   "outputs": [
    {
     "data": {
      "text/plain": [
       "['apple', 'banana', 'mango']"
      ]
     },
     "execution_count": 52,
     "metadata": {},
     "output_type": "execute_result"
    }
   ],
   "source": [
    "### List are an mutable means you can change their element after creation.\n",
    "lis_1=[\"apple\",\"banana\",\"mango\"]\n",
    "lis_1"
   ]
  },
  {
   "cell_type": "code",
   "execution_count": 53,
   "id": "5661f04c-4683-4eb5-82c6-9dae5e8ef5a1",
   "metadata": {},
   "outputs": [
    {
     "data": {
      "text/plain": [
       "'apple'"
      ]
     },
     "execution_count": 53,
     "metadata": {},
     "output_type": "execute_result"
    }
   ],
   "source": [
    "lis_1[0]"
   ]
  },
  {
   "cell_type": "code",
   "execution_count": 54,
   "id": "b720ada5-e26b-4259-af93-fd6997e6be18",
   "metadata": {},
   "outputs": [
    {
     "data": {
      "text/plain": [
       "['tomato', 'banana', 'mango']"
      ]
     },
     "execution_count": 54,
     "metadata": {},
     "output_type": "execute_result"
    }
   ],
   "source": [
    "lis_1[0]=\"tomato\"\n",
    "lis_1"
   ]
  },
  {
   "cell_type": "code",
   "execution_count": 55,
   "id": "eed6f124-d979-48c4-95f6-f696070b40ba",
   "metadata": {},
   "outputs": [
    {
     "data": {
      "text/plain": [
       "('apple', 'banana', 'mango')"
      ]
     },
     "execution_count": 55,
     "metadata": {},
     "output_type": "execute_result"
    }
   ],
   "source": [
    "### Tupples are immutable means you can't change their element after the creatiom.\n",
    "lis_1=(\"apple\",\"banana\",\"mango\")\n",
    "lis_1"
   ]
  },
  {
   "cell_type": "code",
   "execution_count": 56,
   "id": "27ed9b78-6b26-4417-92f4-ee528480b798",
   "metadata": {},
   "outputs": [
    {
     "data": {
      "text/plain": [
       "tuple"
      ]
     },
     "execution_count": 56,
     "metadata": {},
     "output_type": "execute_result"
    }
   ],
   "source": [
    "type(lis_1)"
   ]
  },
  {
   "cell_type": "code",
   "execution_count": 57,
   "id": "86c15205-44ce-4d4e-816c-3f612eea6f60",
   "metadata": {},
   "outputs": [
    {
     "data": {
      "text/plain": [
       "'apple'"
      ]
     },
     "execution_count": 57,
     "metadata": {},
     "output_type": "execute_result"
    }
   ],
   "source": [
    "lis_1[0]"
   ]
  },
  {
   "cell_type": "code",
   "execution_count": 61,
   "id": "af5dc8bd-84eb-4058-90bf-6d89c0517dfc",
   "metadata": {},
   "outputs": [
    {
     "data": {
      "text/plain": [
       "'apple'"
      ]
     },
     "execution_count": 61,
     "metadata": {},
     "output_type": "execute_result"
    }
   ],
   "source": [
    "## now lets try to exchange apple with onion\n",
    "## It will saw that tuple object doesnot support item assignment.Beccause it is an immutable\n",
    "## List can be defined using square brackets [].\n",
    "## Tuple can be defined by using parenthesis ().\n",
    "lis_1[0]"
   ]
  },
  {
   "cell_type": "code",
   "execution_count": 60,
   "id": "bf6c275e-42ca-4df5-86b8-b4bb501bf9f0",
   "metadata": {},
   "outputs": [
    {
     "ename": "TypeError",
     "evalue": "'tuple' object does not support item assignment",
     "output_type": "error",
     "traceback": [
      "\u001b[0;31m---------------------------------------------------------------------------\u001b[0m",
      "\u001b[0;31mTypeError\u001b[0m                                 Traceback (most recent call last)",
      "Cell \u001b[0;32mIn[60], line 1\u001b[0m\n\u001b[0;32m----> 1\u001b[0m \u001b[43mlis_1\u001b[49m\u001b[43m[\u001b[49m\u001b[38;5;241;43m0\u001b[39;49m\u001b[43m]\u001b[49m\u001b[38;5;241m=\u001b[39m\u001b[38;5;124m\"\u001b[39m\u001b[38;5;124monion\u001b[39m\u001b[38;5;124m\"\u001b[39m\n\u001b[1;32m      2\u001b[0m lis_1\n",
      "\u001b[0;31mTypeError\u001b[0m: 'tuple' object does not support item assignment"
     ]
    }
   ],
   "source": [
    "## Tuple is an immutable that's y we can't change\n",
    "\n",
    "lis_1[0]=\"onion\"\n",
    "lis_1"
   ]
  },
  {
   "cell_type": "markdown",
   "id": "f4001fec-766a-4427-80e5-1c2a44600e63",
   "metadata": {},
   "source": [
    "5.Describe the key features of sets and provide examples of their use."
   ]
  },
  {
   "cell_type": "code",
   "execution_count": 62,
   "id": "823d2808-1471-442d-bc45-e68b15d7b755",
   "metadata": {},
   "outputs": [
    {
     "data": {
      "text/plain": [
       "{'apple', 'bannana', 'lemon'}"
      ]
     },
     "execution_count": 62,
     "metadata": {},
     "output_type": "execute_result"
    }
   ],
   "source": [
    "### sets stores an unordered collection of unique elements.\n",
    "set_1={\"apple\",\"bannana\",\"lemon\"}\n",
    "set_1"
   ]
  },
  {
   "cell_type": "code",
   "execution_count": 63,
   "id": "403de0ea-b7f3-4e60-b029-97fd456871d0",
   "metadata": {},
   "outputs": [
    {
     "data": {
      "text/plain": [
       "set"
      ]
     },
     "execution_count": 63,
     "metadata": {},
     "output_type": "execute_result"
    }
   ],
   "source": [
    "type(set_1)"
   ]
  },
  {
   "cell_type": "code",
   "execution_count": 64,
   "id": "2a96c608-1cdd-4185-9d65-a89b6e9fc33f",
   "metadata": {},
   "outputs": [
    {
     "data": {
      "text/plain": [
       "{'apple', 'bannana', 'lemon'}"
      ]
     },
     "execution_count": 64,
     "metadata": {},
     "output_type": "execute_result"
    }
   ],
   "source": [
    "set_1={\"apple\",\"bannana\",\"lemon\",\"bannana\"} ## don\"t give duplicate elements\n",
    "set_1"
   ]
  },
  {
   "cell_type": "code",
   "execution_count": 65,
   "id": "cc499fa2-b89f-43e1-83d5-fb19ffbe3621",
   "metadata": {},
   "outputs": [
    {
     "data": {
      "text/plain": [
       "{'apple', 'bannana', 'lemon'}"
      ]
     },
     "execution_count": 65,
     "metadata": {},
     "output_type": "execute_result"
    }
   ],
   "source": [
    "### set is also an mutable means you can add and remove elemts after creation.\n",
    "set_1={\"apple\",\"bannana\",\"lemon\"}\n",
    "set_1"
   ]
  },
  {
   "cell_type": "code",
   "execution_count": 66,
   "id": "1e79ff7a-6aa1-4afc-8e10-c99db1529cc6",
   "metadata": {},
   "outputs": [
    {
     "data": {
      "text/plain": [
       "{'apple', 'bannana', 'lemon', 'onion'}"
      ]
     },
     "execution_count": 66,
     "metadata": {},
     "output_type": "execute_result"
    }
   ],
   "source": [
    "set_1.add(\"onion\")\n",
    "set_1"
   ]
  },
  {
   "cell_type": "code",
   "execution_count": 71,
   "id": "f7c8f3d2-d7df-443b-b8a1-5d773017f067",
   "metadata": {},
   "outputs": [
    {
     "data": {
      "text/plain": [
       "{'apple', 'bannana', 'onion'}"
      ]
     },
     "execution_count": 71,
     "metadata": {},
     "output_type": "execute_result"
    }
   ],
   "source": [
    "set_1"
   ]
  },
  {
   "cell_type": "code",
   "execution_count": 75,
   "id": "815dddbf-d531-4c6c-abee-56d50eceb096",
   "metadata": {},
   "outputs": [
    {
     "data": {
      "text/plain": [
       "{'apple', 'bannana'}"
      ]
     },
     "execution_count": 75,
     "metadata": {},
     "output_type": "execute_result"
    }
   ],
   "source": [
    "set_1.remove(\"onion\")\n",
    "set_1"
   ]
  },
  {
   "cell_type": "code",
   "execution_count": 76,
   "id": "f35bc530-92a5-4276-962d-e7984c9abb9f",
   "metadata": {},
   "outputs": [
    {
     "data": {
      "text/plain": [
       "{'biriyani', 'chicken', 'fish'}"
      ]
     },
     "execution_count": 76,
     "metadata": {},
     "output_type": "execute_result"
    }
   ],
   "source": [
    "### Membership testing >>> provide a fast way to check\n",
    "items={\"chicken\",\"fish\",\"biriyani\"}\n",
    "items"
   ]
  },
  {
   "cell_type": "code",
   "execution_count": 79,
   "id": "64cade47-88a4-4797-a99f-e78f6667d3c4",
   "metadata": {},
   "outputs": [
    {
     "data": {
      "text/plain": [
       "True"
      ]
     },
     "execution_count": 79,
     "metadata": {},
     "output_type": "execute_result"
    }
   ],
   "source": [
    "\"biriyani\" in items"
   ]
  },
  {
   "cell_type": "code",
   "execution_count": 80,
   "id": "c5101182-190c-4e04-9159-241d563823cc",
   "metadata": {},
   "outputs": [
    {
     "data": {
      "text/plain": [
       "False"
      ]
     },
     "execution_count": 80,
     "metadata": {},
     "output_type": "execute_result"
    }
   ],
   "source": [
    "\"onion\" in items"
   ]
  },
  {
   "cell_type": "code",
   "execution_count": 82,
   "id": "32877622-2c14-4e95-ba92-9f7e76d55717",
   "metadata": {},
   "outputs": [
    {
     "data": {
      "text/plain": [
       "{'lassi', 'mac'}"
      ]
     },
     "execution_count": 82,
     "metadata": {},
     "output_type": "execute_result"
    }
   ],
   "source": [
    "###. set operation used in task like finding common elements between groups.\n",
    "\n",
    "item1={\"mango\",\"lassi\",\"mac\",\"book\"}\n",
    "item2={\"grapes\",\"promanga\",\"mac\",\"lassi\"}\n",
    "common_item = item1.intersection(item2)\n",
    "common_item"
   ]
  },
  {
   "cell_type": "markdown",
   "id": "91ed4298-fab0-4000-a736-e3a37f38f028",
   "metadata": {},
   "source": [
    "6.Discuss the use cases of tuples and sets in Python programming."
   ]
  },
  {
   "cell_type": "code",
   "execution_count": 83,
   "id": "90f6cc58-977a-44fb-a49d-33cb43965599",
   "metadata": {},
   "outputs": [
    {
     "data": {
      "text/plain": [
       "tuple"
      ]
     },
     "execution_count": 83,
     "metadata": {},
     "output_type": "execute_result"
    }
   ],
   "source": [
    "### Tuples are ordered collection of elements , heterogeneous.\n",
    "## Tuples are immutable\n",
    "\n",
    "t=()\n",
    "type(t)"
   ]
  },
  {
   "cell_type": "code",
   "execution_count": 84,
   "id": "dc8d05f0-4626-4262-90d6-73e309eccd26",
   "metadata": {},
   "outputs": [
    {
     "data": {
      "text/plain": [
       "tuple"
      ]
     },
     "execution_count": 84,
     "metadata": {},
     "output_type": "execute_result"
    }
   ],
   "source": [
    "t=(\"ajay\",\"banana\",\"mango\",1.4)\n",
    "type(t)"
   ]
  },
  {
   "cell_type": "code",
   "execution_count": 85,
   "id": "f3475e53-7f51-4866-8333-412aba50b12a",
   "metadata": {},
   "outputs": [
    {
     "data": {
      "text/plain": [
       "'ajay'"
      ]
     },
     "execution_count": 85,
     "metadata": {},
     "output_type": "execute_result"
    }
   ],
   "source": [
    "t[0]"
   ]
  },
  {
   "cell_type": "code",
   "execution_count": 86,
   "id": "42f72b20-af88-4781-b623-dc9759f895e6",
   "metadata": {},
   "outputs": [
    {
     "ename": "TypeError",
     "evalue": "'tuple' object does not support item assignment",
     "output_type": "error",
     "traceback": [
      "\u001b[0;31m---------------------------------------------------------------------------\u001b[0m",
      "\u001b[0;31mTypeError\u001b[0m                                 Traceback (most recent call last)",
      "Cell \u001b[0;32mIn[86], line 2\u001b[0m\n\u001b[1;32m      1\u001b[0m \u001b[38;5;66;03m## now lets try to exchange any one of the element\u001b[39;00m\n\u001b[0;32m----> 2\u001b[0m \u001b[43mt\u001b[49m\u001b[43m[\u001b[49m\u001b[38;5;241;43m0\u001b[39;49m\u001b[43m]\u001b[49m\u001b[38;5;241m=\u001b[39m\u001b[38;5;241m1\u001b[39m\n",
      "\u001b[0;31mTypeError\u001b[0m: 'tuple' object does not support item assignment"
     ]
    }
   ],
   "source": [
    "## now lets try to exchange any one of the element\n",
    "t[0]=1"
   ]
  },
  {
   "cell_type": "markdown",
   "id": "c5789fb5-f8d2-49c3-add9-c068ffe4c12c",
   "metadata": {},
   "source": [
    "It shows an error because of immutable "
   ]
  },
  {
   "cell_type": "code",
   "execution_count": 87,
   "id": "a030e3a8-8550-41b1-9c1e-c799ac2ed87a",
   "metadata": {},
   "outputs": [
    {
     "data": {
      "text/plain": [
       "('Ajay', 1, 1, 1, 2, 2.2)"
      ]
     },
     "execution_count": 87,
     "metadata": {},
     "output_type": "execute_result"
    }
   ],
   "source": [
    "t1=(\"Ajay\",1,1,1,2,2.2)\n",
    "t1"
   ]
  },
  {
   "cell_type": "code",
   "execution_count": 88,
   "id": "490c6e80-69af-4043-b9bb-ba69e17faf32",
   "metadata": {},
   "outputs": [
    {
     "data": {
      "text/plain": [
       "3"
      ]
     },
     "execution_count": 88,
     "metadata": {},
     "output_type": "execute_result"
    }
   ],
   "source": [
    "t1.count(1)"
   ]
  },
  {
   "cell_type": "code",
   "execution_count": 89,
   "id": "94bb049f-9b23-45b1-ac25-50440097a81c",
   "metadata": {},
   "outputs": [
    {
     "data": {
      "text/plain": [
       "1"
      ]
     },
     "execution_count": 89,
     "metadata": {},
     "output_type": "execute_result"
    }
   ],
   "source": [
    "t1.count(2.2)"
   ]
  },
  {
   "cell_type": "code",
   "execution_count": 90,
   "id": "9940d035-56a8-4aad-aa88-31031f96b621",
   "metadata": {},
   "outputs": [
    {
     "data": {
      "text/plain": [
       "('Ajay', 1, 1, 1, 2, 2.2)"
      ]
     },
     "execution_count": 90,
     "metadata": {},
     "output_type": "execute_result"
    }
   ],
   "source": [
    "t1"
   ]
  },
  {
   "cell_type": "code",
   "execution_count": 91,
   "id": "5bdcc2de-d197-4757-bc0e-b13101a0aa90",
   "metadata": {},
   "outputs": [
    {
     "data": {
      "text/plain": [
       "('Ajay', 1, 1, 1)"
      ]
     },
     "execution_count": 91,
     "metadata": {},
     "output_type": "execute_result"
    }
   ],
   "source": [
    "t1[:4]"
   ]
  },
  {
   "cell_type": "code",
   "execution_count": 92,
   "id": "6ec399d9-2235-4a0b-8f7f-caf0e4221612",
   "metadata": {},
   "outputs": [
    {
     "name": "stdout",
     "output_type": "stream",
     "text": [
      "Ajay\n",
      "1\n",
      "1\n",
      "1\n",
      "2\n",
      "2.2\n"
     ]
    }
   ],
   "source": [
    "for i in t1:\n",
    "    print(i)"
   ]
  },
  {
   "cell_type": "code",
   "execution_count": 93,
   "id": "60ad7a26-9987-4a16-8ccf-66caf418abe5",
   "metadata": {},
   "outputs": [
    {
     "data": {
      "text/plain": [
       "(100, 200)"
      ]
     },
     "execution_count": 93,
     "metadata": {},
     "output_type": "execute_result"
    }
   ],
   "source": [
    "t1=(100,200)\n",
    "t1"
   ]
  },
  {
   "cell_type": "code",
   "execution_count": 94,
   "id": "d062d474-e411-49c7-b2a9-3177846033fe",
   "metadata": {},
   "outputs": [
    {
     "data": {
      "text/plain": [
       "(300, 400)"
      ]
     },
     "execution_count": 94,
     "metadata": {},
     "output_type": "execute_result"
    }
   ],
   "source": [
    "t2=(300,400)\n",
    "t2"
   ]
  },
  {
   "cell_type": "code",
   "execution_count": 95,
   "id": "456f1d0c-4967-47b5-afe2-2544d57e9ae8",
   "metadata": {},
   "outputs": [],
   "source": [
    "t3 = (t1,t2) ## nested tuples"
   ]
  },
  {
   "cell_type": "code",
   "execution_count": 96,
   "id": "9f5f6aef-ae7e-4c06-807e-61ad36bc05c5",
   "metadata": {},
   "outputs": [
    {
     "data": {
      "text/plain": [
       "((100, 200), (300, 400))"
      ]
     },
     "execution_count": 96,
     "metadata": {},
     "output_type": "execute_result"
    }
   ],
   "source": [
    "t3"
   ]
  },
  {
   "cell_type": "code",
   "execution_count": 98,
   "id": "fd5bd698-1775-4c04-b735-da809eac87af",
   "metadata": {},
   "outputs": [
    {
     "data": {
      "text/plain": [
       "True"
      ]
     },
     "execution_count": 98,
     "metadata": {},
     "output_type": "execute_result"
    }
   ],
   "source": [
    "t1=(100,200)\n",
    "100 in t1"
   ]
  },
  {
   "cell_type": "code",
   "execution_count": 99,
   "id": "f55cae71-fa8c-4bb5-8bb1-005518311aa1",
   "metadata": {},
   "outputs": [
    {
     "data": {
      "text/plain": [
       "False"
      ]
     },
     "execution_count": 99,
     "metadata": {},
     "output_type": "execute_result"
    }
   ],
   "source": [
    "300 in t1"
   ]
  },
  {
   "cell_type": "code",
   "execution_count": 100,
   "id": "986e5571-a273-411f-9c68-47a82be741ed",
   "metadata": {},
   "outputs": [
    {
     "data": {
      "text/plain": [
       "(100, 200, 300, 400, 500, 600)"
      ]
     },
     "execution_count": 100,
     "metadata": {},
     "output_type": "execute_result"
    }
   ],
   "source": [
    "t1=(100,200,300) ### combining both the tuples.\n",
    "t2=(400,500,600)\n",
    "t1+t2"
   ]
  },
  {
   "cell_type": "markdown",
   "id": "86d5a97e-b8c1-4899-85c5-6a02dfaad994",
   "metadata": {},
   "source": [
    "7.Describe how to add, modify, and delete items in a dictionary with examples."
   ]
  },
  {
   "cell_type": "code",
   "execution_count": 125,
   "id": "9b3fe955-720b-4444-befb-92c7f1c60d7b",
   "metadata": {},
   "outputs": [
    {
     "name": "stdout",
     "output_type": "stream",
     "text": [
      "{'name': 'cecilia', 'age': 30, 'job': 'data'}\n"
     ]
    }
   ],
   "source": [
    "# we create a dictionary\n",
    "gosu = {\"name\": \"cecilia\", \"city\": \"india\", \"age\": 30} \n",
    "\n",
    "#we add element\n",
    "\n",
    "gosu[\"job\"]=\"data\"\n",
    "\n",
    "# modify\n",
    "\n",
    "gosu[\"age\"]=30\n",
    "\n",
    "# we delete item\n",
    "\n",
    "del gosu[\"city\"]\n",
    " \n",
    "\n",
    "print(gosu)"
   ]
  },
  {
   "cell_type": "markdown",
   "id": "3e70e8a1-287f-4c2e-8077-b5ef0958c61a",
   "metadata": {},
   "source": [
    "8.Discuss the importance of dictionary keys being immutable and provide examples."
   ]
  },
  {
   "cell_type": "code",
   "execution_count": 135,
   "id": "a83c9afe-5d2c-4c7c-be91-75328fe11406",
   "metadata": {},
   "outputs": [
    {
     "name": "stdout",
     "output_type": "stream",
     "text": [
      "Ajay\n"
     ]
    }
   ],
   "source": [
    "## lets understand by taking examples\n",
    "# Strings are immutable, so they can be used as dictionary keys\n",
    "my_dict = {}\n",
    "my_dict[\"name\"] = \"Ajay\"\n",
    "print(my_dict[\"name\"]) \n"
   ]
  },
  {
   "cell_type": "code",
   "execution_count": 143,
   "id": "1399cb08-7b42-42b1-8dc7-72c3dffcd04c",
   "metadata": {},
   "outputs": [
    {
     "name": "stdout",
     "output_type": "stream",
     "text": [
      "x and y axis\n"
     ]
    }
   ],
   "source": [
    "## using tuples as a key\n",
    "\n",
    "my_dict = {}\n",
    "my_dict[(1,2)] = \"x and y axis\"\n",
    "print(my_dict[(1,2)])"
   ]
  },
  {
   "cell_type": "code",
   "execution_count": 139,
   "id": "1eebc88c-9de8-45e8-b4ba-edebae47e940",
   "metadata": {},
   "outputs": [
    {
     "ename": "TypeError",
     "evalue": "unhashable type: 'list'",
     "output_type": "error",
     "traceback": [
      "\u001b[0;31m---------------------------------------------------------------------------\u001b[0m",
      "\u001b[0;31mTypeError\u001b[0m                                 Traceback (most recent call last)",
      "Cell \u001b[0;32mIn[139], line 4\u001b[0m\n\u001b[1;32m      1\u001b[0m \u001b[38;5;66;03m# Lists are mutable, so they cannot be used as dictionary keys\u001b[39;00m\n\u001b[1;32m      2\u001b[0m my_dict \u001b[38;5;241m=\u001b[39m {}\n\u001b[0;32m----> 4\u001b[0m \u001b[43mmy_dict\u001b[49m\u001b[43m[\u001b[49m\u001b[43m[\u001b[49m\u001b[38;5;241;43m1\u001b[39;49m\u001b[43m,\u001b[49m\u001b[43m \u001b[49m\u001b[38;5;241;43m2\u001b[39;49m\u001b[43m]\u001b[49m\u001b[43m]\u001b[49m \u001b[38;5;241m=\u001b[39m \u001b[38;5;124m\"\u001b[39m\u001b[38;5;124mError\u001b[39m\u001b[38;5;124m\"\u001b[39m  \n\u001b[1;32m      5\u001b[0m \u001b[38;5;28mprint\u001b[39m(my_dict[[\u001b[38;5;241m1\u001b[39m,\u001b[38;5;241m2\u001b[39m]])\n",
      "\u001b[0;31mTypeError\u001b[0m: unhashable type: 'list'"
     ]
    }
   ],
   "source": [
    "# Lists are mutable, so they cannot be used as dictionary keys\n",
    "my_dict = {}\n",
    "\n",
    "my_dict[[1, 2]] = \"Error\"  \n",
    "print(my_dict[[1,2]])\n"
   ]
  },
  {
   "cell_type": "code",
   "execution_count": 142,
   "id": "3440ccf2-bc4d-4a42-80a8-ce02efce4df7",
   "metadata": {},
   "outputs": [
    {
     "name": "stdout",
     "output_type": "stream",
     "text": [
      "two\n"
     ]
    }
   ],
   "source": [
    "# Integers are immutable, so they can be used as dictionary keys\n",
    "my_dict = {}\n",
    "my_dict[1] = \"two\"\n",
    "print(my_dict[1]) "
   ]
  },
  {
   "cell_type": "code",
   "execution_count": 141,
   "id": "6d292d11-c44e-44cd-b31b-d210ad9a29c7",
   "metadata": {},
   "outputs": [
    {
     "name": "stdout",
     "output_type": "stream",
     "text": [
      "Pi\n"
     ]
    }
   ],
   "source": [
    "# Floats are immutable, so they can be used as dictionary keys\n",
    "my_dict = {}\n",
    "my_dict[3.14] = \"Pi\"\n",
    "print(my_dict[3.14]) "
   ]
  },
  {
   "cell_type": "markdown",
   "id": "96f03744-e845-4a1e-a6cf-2a02807c7e7f",
   "metadata": {},
   "source": [
    "### explaination part\n",
    "\n",
    "i)As hash values for dictionary keys must remain constant for fast and precise lookups, dictionary keys must be immutable.\n",
    "\n",
    "ii)Because their contents are unchangeable and the dictionary can always discover the right value, immutable keys ensure that the dictionary remains stable.\n",
    "\n",
    "iii)The stability of the dictionary's key-value pairs is guaranteed by immutable keys, which makes it simpler to anticipate and prevent errors in your code."
   ]
  }
 ],
 "metadata": {
  "kernelspec": {
   "display_name": "Python 3 (ipykernel)",
   "language": "python",
   "name": "python3"
  },
  "language_info": {
   "codemirror_mode": {
    "name": "ipython",
    "version": 3
   },
   "file_extension": ".py",
   "mimetype": "text/x-python",
   "name": "python",
   "nbconvert_exporter": "python",
   "pygments_lexer": "ipython3",
   "version": "3.10.8"
  }
 },
 "nbformat": 4,
 "nbformat_minor": 5
}
